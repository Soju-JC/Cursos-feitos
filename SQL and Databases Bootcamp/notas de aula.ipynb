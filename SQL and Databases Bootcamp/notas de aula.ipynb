{
 "cells": [
  {
   "attachments": {},
   "cell_type": "markdown",
   "metadata": {},
   "source": [
    "# Notas de aula do curso SQL and Databases Bootcamp: Zero to Mastery \n",
    "\n"
   ]
  },
  {
   "attachments": {},
   "cell_type": "markdown",
   "metadata": {},
   "source": [
    "## O que são banco de dados?"
   ]
  },
  {
   "attachments": {},
   "cell_type": "markdown",
   "metadata": {},
   "source": [
    "- Banco de dados são basicamente locais os quais guardamos dados. Na prática, desde que tenhamos hardware e software, então é possível criar um banco de dados. Um celular pode ser um banco de dados, ou um computador por exemplo. Normalmente, a 'cara' de um banco de dados é dada por grandes estantes de máquinas (hardwares) com programas específicos (sofwares) para seu funcionamento, os quais são estruturas criadas especificamente para ser um banco de dados.\n",
    "- Uma empresa pode ter um banco de dados de alto volume, mas a forma de consulta e de uso desses dados não necessariamente será a mesma para todos os setores da empresa. Porém, felizmente, a forma de 'conversar' com o banco de dados é usualmente feita através da linguagem SQL.\n",
    "- Quando dizemos \"banco de dados\", nos referimos ao sistema que estamos usando para dar instruções com o SQL, as quais farão o sistema interagir com os dados, tais sistema chamados de Sistemas de gerenciamento de banco de dados (SGBD). Ou seja, embora um banco de dados originalmente seja um local de armazenamento, na prática, o termo \"banco de dados\" é usado para se referir ao SGBD utilizado para interagir com os dados.\n",
    "- Os dados que um banco de dados comporta pordem ser de várias formas, como imagens, perfis de usuários, arquivos de audio, informações de log ...\n",
    "\n",
    "De maneira resumida, um banco de dados é um sistema composto de hardware e software no qual um humano consegue armazenar dados e interagir com eles, onde, essa interação é feita por um software de gerenciamento o qual recebe instruções."
   ]
  },
  {
   "attachments": {},
   "cell_type": "markdown",
   "metadata": {},
   "source": [
    "## Sistema de gerenciamento de banco de dados (SGBD, ou no ingês DBMS)"
   ]
  },
  {
   "attachments": {},
   "cell_type": "markdown",
   "metadata": {},
   "source": [
    "- Sistemas de gerenciamento de banco de dados (SGBD): São programas (sofwares) que recebem instruções de um humano, e então, a partir da instrução dada consegue manusear, alterar, atualizar, consultar, extrair...  dados do banco de dados.\n",
    "- Sistemas de gerenciamento de banco de dados relacionais (SGBD relacional): São um subgrupo do anterior, onde o objetivo é o mesmo, mas focado em banco de dados relacionais.\n",
    "- Structured Query Language (SQL): É a linguagem de query (solicitações) que um humano irá utilizar para dar instruções a um SGBD, e então, conseguir se comunicar com o banco de dados."
   ]
  },
  {
   "attachments": {},
   "cell_type": "markdown",
   "metadata": {},
   "source": [
    "## Tipos de banco de dados"
   ]
  },
  {
   "attachments": {},
   "cell_type": "markdown",
   "metadata": {},
   "source": [
    "### Banco de dados relacionais (modelo relacional)"
   ]
  },
  {
   "attachments": {},
   "cell_type": "markdown",
   "metadata": {},
   "source": [
    "O modelo relacional é quando os dados são organizados em tabelas as quais, são relacionadas através de colunas específicas, como ID ou identificadores. É o tipo mais comum, e funciona muito bem com a linguagem SQL. Dentre alguns bancos de dados relacionais temos os seguintes:\n",
    "    \n",
    "    - PostgreSQL\n",
    "    - MySQL\n",
    "    - SQL Server"
   ]
  },
  {
   "attachments": {},
   "cell_type": "markdown",
   "metadata": {},
   "source": [
    "Pensando em uma empresa que está iniciando, por exemplo, Amazom. Os primeiros clientes irão realizar pedidos à empresa, e então, a empresa irá começar a anotar as informações de cada cliente para devidamente separar e enviar o pedido, além de ser uma forma de acompanhar cada pedido. Uma forma que a princípio pode ser eficiente, é anotar ou guardar esses dados em uma planilha no Excel, por exemplo.\n",
    "\n",
    "De acordo com que a empresa for crescendo e tendo mais clientes, alguns problemas irão começar a ocorrer. Um mesmo cliente poderá fazer pedidos mais de uma vez, e também cancelar, e ao ir registrando esses dados em cada linha da planilha, teremos linhas ou observações referentes a um mesmo indivíduo, sem ter uma organização clara. Eventualmente, com o crescimento da empresa, casos como esse irão aumentar, fazendo com que a planilha tenha dados com uma organização não tão bem clara, dificultando a extração de informações, por exemplo.\n",
    "\n",
    "Nesse ponto, uma alternativa é migrar os dados para um banco de dados. Em um banco de dados, teremos diversas tabelas com os dados, de forma que cada linha nessas tabelas sejam únicas e devidamente identificadas, mantendo uma organização clara. Além disso, essas tabelas serão, de alguma forma, relacionadas através desses identificadores. \n",
    "\n",
    "Ex: O cliente José comprou um livro na Amazom chamado \"Livro de Culinária\" por 50 reais, os dados da compra podem ser armazenados na seguinte estrutura:\n",
    "\n",
    "- Tabela: Cliente\n",
    "    - ClienteID: 1 \n",
    "    - Nome: José\n",
    "- Tabela: Produtos\n",
    "    - ProdutoID: 1\n",
    "    - Nome: Livro de Clinária\n",
    "    - Preço: 50 reais\n",
    "- Tabela: Compras\n",
    "    - CompraID: 1\n",
    "    - ClienteID: 1\n",
    "    - Data: 20/07/1995\n",
    "    - ProdutoID: 1\n",
    "    - Quantidade: 1  \n",
    "\n",
    "Note que cada tabela possui um identificador da linha (ClienteID, ProdutoID, CompraID), o que irá manter a unicidade de cada linha ao escalar para mais compras. Além disso, note que as tabelas \"Cliente\" e \"Produtos\" estão relacionadas com a tabela \"Compras\" através desses identificadores (ID), o que permite uma organização clara dos dados. \n",
    "\n",
    "Perceba que, ao aumentar o número de clientes, as tabelas permanecerão tendo cada linha única, mantendo a organização dos dados de uma forma intuitiva, o que não ocorreria em uma planilha comum, pois teríamos esses dados misturados em diferentes linhas."
   ]
  },
  {
   "attachments": {},
   "cell_type": "markdown",
   "metadata": {},
   "source": [
    "### Modelo de documento"
   ]
  },
  {
   "attachments": {},
   "cell_type": "markdown",
   "metadata": {},
   "source": [
    "Esse tipo de banco de dados é na forma de um grande documento o qual possui um alto volume de dados relacionados, em vez de uma estrutura em linhas e colunas. Alguns exemplos de banco de dados no modelo documento são:\n",
    "\n",
    "    - MongoDB\n",
    "    - Apache CouchDB\n",
    "    - Google Firebase"
   ]
  },
  {
   "attachments": {},
   "cell_type": "markdown",
   "metadata": {},
   "source": [
    "Esse tipo modelo é eficiente em casos em que o banco de dados precisa receber volume de dados cada vez maiores (escalabilidade), mantendo uma boa performance."
   ]
  },
  {
   "attachments": {},
   "cell_type": "markdown",
   "metadata": {},
   "source": [
    "### Modelo chave-valor (key value)"
   ]
  },
  {
   "attachments": {},
   "cell_type": "markdown",
   "metadata": {},
   "source": [
    "Esse modelo consiste em banco de dados com a forma mais simples de se acessar os dados, que é através de uma chave ou key, ao qual um humano faz o requerimento, e recebe em retorno o dado referente aquela key. Alguns exemplos de banco de dados no modelo key value são:\n",
    "\n",
    "- Redis\n",
    "- Amazon DynamoDB\n",
    "- ScyllaDB (também é Wide Column)"
   ]
  },
  {
   "attachments": {},
   "cell_type": "markdown",
   "metadata": {},
   "source": [
    "### Modelo de grafos"
   ]
  },
  {
   "attachments": {},
   "cell_type": "markdown",
   "metadata": {},
   "source": [
    "Esse modelo de banco de dados é mais incomum por ser mais específico. Se concentra na relação entre diferentes unidades de dados, como em uma rede social por exemplo, onde pode incorporar o comportamento de como diferentes usuários estão conectados um ao outro. Exemplos de banco de dados no modelo de grafos são:\n",
    "\n",
    "- Neo4j\n",
    "- Apache Giraph\n",
    "- JanusGraph\n",
    "- Amazon Neptune (Multimodel)"
   ]
  },
  {
   "attachments": {},
   "cell_type": "markdown",
   "metadata": {},
   "source": [
    "### Modelo Wide Column"
   ]
  },
  {
   "attachments": {},
   "cell_type": "markdown",
   "metadata": {},
   "source": [
    "É um modelo relativamente recente, onde, os dados são organizados em colunas flexíveis espalhadas ao longo de vários servidores ou nós, utilizando um mapeamento multidimensional para referenciar ou identificar os dados por coluna, linha e grade de tempo. Exemplos desses bancos de dados são:\n",
    "\n",
    "    - Apache Cassandra\n",
    "    - Google BigTable"
   ]
  }
 ],
 "metadata": {
  "kernelspec": {
   "display_name": "base",
   "language": "python",
   "name": "python3"
  },
  "language_info": {
   "codemirror_mode": {
    "name": "ipython",
    "version": 3
   },
   "file_extension": ".py",
   "mimetype": "text/x-python",
   "name": "python",
   "nbconvert_exporter": "python",
   "pygments_lexer": "ipython3",
   "version": "3.10.9"
  },
  "orig_nbformat": 4
 },
 "nbformat": 4,
 "nbformat_minor": 2
}
