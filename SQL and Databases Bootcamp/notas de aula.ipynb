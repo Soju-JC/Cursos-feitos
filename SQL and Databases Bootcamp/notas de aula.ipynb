{
 "cells": [
  {
   "attachments": {},
   "cell_type": "markdown",
   "metadata": {},
   "source": [
    "# Notas de aula do curso SQL and Databases Bootcamp: Zero to Mastery \n",
    "\n"
   ]
  },
  {
   "attachments": {},
   "cell_type": "markdown",
   "metadata": {},
   "source": [
    "## O que são banco de dados?"
   ]
  },
  {
   "attachments": {},
   "cell_type": "markdown",
   "metadata": {},
   "source": [
    "- Banco de dados são basicamente locais os quais guardamos dados. Na prática, desde que tenhamos hardware e software, então é possível criar um banco de dados. Um celular pode ser um banco de dados, ou um computador por exemplo. Normalmente, a 'cara' de um banco de dados é dada por grandes estantes de máquinas (hardwares) com programas específicos (sofwares) para seu funcionamento, os quais são estruturas criadas especificamente para ser um banco de dados.\n",
    "- Uma empresa pode ter um banco de dados de alto volume, mas a forma de consulta e de uso desses dados não necessariamente será a mesma para todos os setores da empresa. Porém, felizmente, a forma de 'conversar' com o banco de dados é usualmente feita através da linguagem SQL.\n",
    "- Quando dizemos \"banco de dados\", nos referimos ao sistema que estamos usando para dar instruções com o SQL, as quais farão o sistema interagir com os dados, tais sistema chamados de Sistemas de gerenciamento de banco de dados (SGBD). Ou seja, embora um banco de dados originalmente seja um local de armazenamento, na prática, o termo \"banco de dados\" é usado para se referir ao SGBD utilizado para interagir com os dados.\n",
    "- Os dados que um banco de dados comporta pordem ser de várias formas, como imagens, perfis de usuários, arquivos de audio, informações de log ...\n",
    "\n",
    "De maneira resumida, um banco de dados é um sistema composto de hardware e software no qual um humano consegue armazenar dados e interagir com eles, onde, essa interação é feita por um software de gerenciamento o qual recebe instruções."
   ]
  },
  {
   "attachments": {},
   "cell_type": "markdown",
   "metadata": {},
   "source": [
    "## Sistema de gerenciamento de banco de dados (SGBD, ou no ingês DBMS)"
   ]
  },
  {
   "attachments": {},
   "cell_type": "markdown",
   "metadata": {},
   "source": [
    "- **Sistemas de gerenciamento de banco de dados (SGBD)**: São programas (sofwares) que recebem instruções de um humano, e então, a partir da instrução dada consegue manusear, alterar, atualizar, consultar, extrair...  dados do banco de dados. Um termo muito utilizado é `operações CRUD` (create, read, update e delete), que é a base do que pode ser feito com um SGDB, ou seja, criar ou adicionar dados, através de uma instrução irá ler e retornar os dados solicitados, alterar ou atualizar dados e até mesmo deletar dados. Além disso, permite gerenciar o banco de dados, no sentido de `localidade` (em qual hard drive estão), `segurança` (permissões de acesso ao banco de dados ou protocolos e políticas de segurança implementadas para proteção dos dados) ou até mesmo `gerenciamento de transações` (ex: Mais de um indivíduo tenta atualizar a mesma coisa ao mesmo tempo, no BD, o que levará a cenários mais complexos os quais serão lidados pelo SGBD).\n",
    "- **Sistemas de gerenciamento de banco de dados relacionais (SGBD relacional)**: São um subgrupo do anterior, onde o objetivo é o mesmo, mas focado em banco de dados relacionais.\n",
    "- **Structured Query Language (SQL)**: É a linguagem de query (solicitações) que um humano irá utilizar para dar instruções a um SGBD, e então, conseguir se comunicar com o banco de dados."
   ]
  },
  {
   "attachments": {},
   "cell_type": "markdown",
   "metadata": {},
   "source": [
    "## Tipos de banco de dados"
   ]
  },
  {
   "attachments": {},
   "cell_type": "markdown",
   "metadata": {},
   "source": [
    "Os dados ao serem organizados e armazenados devem seguir um conjunto de regras pré-definidas, caso contrário, a ideia de um banco de dados ser uma forma em que temos dados intuitivamente estruturados os quais podemos interagir por meio de um sistema, deixaria de fazer sentido. Esse conjunto de regras pré-definidas ganham a forma do que chamamos de `modelos de banco de dados`. Existem diversos modelos propostos e em uso, dentre eles, sendo o mais comum, o modelo relacional. \n",
    "\n",
    "No passado, a forma adotada de estruturar dados era pelo modelo hierárquico, onde, esse modelo seguia a estrutura de pais e filhos (similar ao HTML). Imagine que os dados são organizados em pastas, no modelo hierárquico, teríamos uma pasta pais, e dentro dela teríamos pastas filhos, e dentro delas, pastas filhos onde os pais são a pasta anterior, e assim por diante. Uma regra fundamental desse modelo é que cada filho só é relacionado com uma pasta pais, assim, pastas filho não podem ter relação com uma pasta 'tio' por exemplo, tornando-se uma limitação. Esse problema foi posteriormente deixado de lado com o modelo Networking, mas eventualmente percebeu-se que essa estrutura hierárquica geralmente não era adequada em casos reais. \n",
    "\n",
    "Assim, nasceu-se o modelo relacional, o qual muda a ideia de estruturar e organizar os dados em um formato hierárquico para um formato de tabelas com linhas únicas, onde, é possível estruturar as relações entre as tabelas por meio de tabelas extras. "
   ]
  },
  {
   "attachments": {},
   "cell_type": "markdown",
   "metadata": {},
   "source": [
    "### Banco de dados relacionais (modelo relacional)"
   ]
  },
  {
   "attachments": {},
   "cell_type": "markdown",
   "metadata": {},
   "source": [
    "O modelo relacional é quando os dados são organizados em tabelas as quais, são relacionadas através de colunas específicas, como ID ou identificadores. É o tipo mais comum, e funciona muito bem com a linguagem SQL. Dentre alguns bancos de dados relacionais temos os seguintes:\n",
    "    \n",
    " - PostgreSQL\n",
    " - MySQL\n",
    " - SQL Server"
   ]
  },
  {
   "attachments": {},
   "cell_type": "markdown",
   "metadata": {},
   "source": [
    "Pensando em uma empresa que está iniciando, por exemplo, Amazom. Os primeiros clientes irão realizar pedidos à empresa, e então, a empresa irá começar a anotar as informações de cada cliente para devidamente separar e enviar o pedido, além de ser uma forma de acompanhar cada pedido. Uma forma que a princípio pode ser eficiente, é anotar ou guardar esses dados em uma planilha no Excel, por exemplo.\n",
    "\n",
    "De acordo com que a empresa for crescendo e tendo mais clientes, alguns problemas irão começar a ocorrer. Um mesmo cliente poderá fazer pedidos mais de uma vez, e também cancelar, e ao ir registrando esses dados em cada linha da planilha, teremos linhas ou observações referentes a um mesmo indivíduo, sem ter uma organização clara. Eventualmente, com o crescimento da empresa, casos como esse irão aumentar, fazendo com que a planilha tenha dados com uma organização não tão bem clara, dificultando a extração de informações, por exemplo.\n",
    "\n",
    "Nesse ponto, uma alternativa é migrar os dados para um banco de dados. Em um banco de dados, teremos diversas tabelas com os dados, de forma que cada linha nessas tabelas sejam únicas e devidamente identificadas, mantendo uma organização clara. Além disso, essas tabelas serão, de alguma forma, relacionadas através desses identificadores. \n",
    "\n",
    "**Ex 1.0**: O cliente José comprou um livro na Amazom chamado \"Livro de Culinária\" por 50 reais, os dados da compra podem ser armazenados na seguinte estrutura:\n",
    "\n",
    "- Tabela: Cliente\n",
    "    - ClienteID: 1 \n",
    "    - Nome: José\n",
    "- Tabela: Produtos\n",
    "    - ProdutoID: 1\n",
    "    - Nome: Livro de Clinária\n",
    "    - Preço: 50 reais\n",
    "- Tabela: Compras\n",
    "    - CompraID: 1\n",
    "    - ClienteID: 1\n",
    "    - Data: 20/07/1995\n",
    "    - ProdutoID: 1\n",
    "    - Quantidade: 1  \n",
    "\n",
    "Note que cada tabela possui um identificador da linha (ClienteID, ProdutoID, CompraID), o que irá manter a unicidade de cada linha ao escalar para mais compras. Além disso, note que as tabelas \"Cliente\" e \"Produtos\" estão relacionadas com a tabela \"Compras\" através desses identificadores (ID), o que permite uma organização clara dos dados. \n",
    "\n",
    "Perceba que, ao aumentar o número de clientes, as tabelas permanecerão tendo cada linha única, mantendo a organização dos dados de uma forma intuitiva, o que não ocorreria em uma planilha comum, pois teríamos esses dados misturados em diferentes linhas.\n",
    "\n",
    "**Principais usos**: Banco de dados relacionais possue dois principais usos, `OLTP` (online transaction processing) e `OLAP` (online analysis processing).\n",
    " - **OLTP**: É o processo diário, quando o banco de dados relacional é usado com intuito de lidar com transações do dia a dia, armazenando logs de informações de usuários como cadastro, local, pedido, compra, etc.\n",
    " - **OLAP**: É o processo para análise dos dados que aparecem no OLTP. Os dados são postos em um `Data Warehouse`, por exemplo, e passam por equipes de análise para obtenção de insights para tomada de decisão.\n",
    "\n"
   ]
  },
  {
   "attachments": {},
   "cell_type": "markdown",
   "metadata": {},
   "source": [
    "### Modelo de documento"
   ]
  },
  {
   "attachments": {},
   "cell_type": "markdown",
   "metadata": {},
   "source": [
    "Esse tipo de banco de dados é na forma de um grande documento o qual possui um alto volume de dados relacionados, em vez de uma estrutura em linhas e colunas. Alguns exemplos de banco de dados no modelo documento são:\n",
    "\n",
    " - MongoDB\n",
    " - Apache CouchDB\n",
    " - Google Firebase"
   ]
  },
  {
   "attachments": {},
   "cell_type": "markdown",
   "metadata": {},
   "source": [
    "Esse tipo modelo é eficiente em casos em que o banco de dados precisa receber volume de dados cada vez maiores (escalabilidade), mantendo uma boa performance."
   ]
  },
  {
   "attachments": {},
   "cell_type": "markdown",
   "metadata": {},
   "source": [
    "### Modelo chave-valor (key value)"
   ]
  },
  {
   "attachments": {},
   "cell_type": "markdown",
   "metadata": {},
   "source": [
    "Esse modelo consiste em banco de dados com a forma mais simples de se acessar os dados, que é através de uma chave ou key, ao qual um humano faz o requerimento, e recebe em retorno o dado referente aquela key. Alguns exemplos de banco de dados no modelo key value são:\n",
    "\n",
    "- Redis\n",
    "- Amazon DynamoDB\n",
    "- ScyllaDB (também é Wide Column)"
   ]
  },
  {
   "attachments": {},
   "cell_type": "markdown",
   "metadata": {},
   "source": [
    "### Modelo de grafos"
   ]
  },
  {
   "attachments": {},
   "cell_type": "markdown",
   "metadata": {},
   "source": [
    "Esse modelo de banco de dados é mais incomum por ser mais específico. Se concentra na relação entre diferentes unidades de dados, como em uma rede social por exemplo, onde pode incorporar o comportamento de como diferentes usuários estão conectados um ao outro. Exemplos de banco de dados no modelo de grafos são:\n",
    "\n",
    "- Neo4j\n",
    "- Apache Giraph\n",
    "- JanusGraph\n",
    "- Amazon Neptune (Multimodel)"
   ]
  },
  {
   "attachments": {},
   "cell_type": "markdown",
   "metadata": {},
   "source": [
    "### Modelo Wide Column"
   ]
  },
  {
   "attachments": {},
   "cell_type": "markdown",
   "metadata": {},
   "source": [
    "É um modelo relativamente recente, onde, os dados são organizados em colunas flexíveis espalhadas ao longo de vários servidores ou nós, utilizando um mapeamento multidimensional para referenciar ou identificar os dados por coluna, linha e grade de tempo. Exemplos desses bancos de dados são:\n",
    "\n",
    " - Apache Cassandra\n",
    " - Google BigTable"
   ]
  },
  {
   "attachments": {},
   "cell_type": "markdown",
   "metadata": {},
   "source": [
    "Esses são apenas alguns exemplos de modelos de banco de dados, além destes, existem inúmeros outros modelos. Dois exemplos extras de modelos, embora um pouco datados, são o Hierarchical e o Networking."
   ]
  },
  {
   "attachments": {},
   "cell_type": "markdown",
   "metadata": {},
   "source": [
    "# SQL (Básico - Intermediário)"
   ]
  },
  {
   "attachments": {},
   "cell_type": "markdown",
   "metadata": {},
   "source": [
    "É uma linguagem a qual utilizamos para dar instruções aos SGBDs, onde, essas instruções permitirão a interação com os dados armazenados (adicionar, excluir, alterar, etc). Além disso, é uma linguagem padronizada, o que significa que, no geral, os SGBDs usuais utilizam ela para a interação com os dados, podendo haver pequenas diferenças ou peculiaridades particulares do SGBD em questão, as quais são criadas pela empresa como atrativo, mas em linhas gerais, o mesmo SQL utilizado em PostgreSQL pode ser utilizado no MySQL, por exemplo."
   ]
  },
  {
   "attachments": {},
   "cell_type": "markdown",
   "metadata": {},
   "source": [
    "## Query"
   ]
  },
  {
   "attachments": {},
   "cell_type": "markdown",
   "metadata": {},
   "source": [
    "O SQL é uma linguagem de query, que nada mais são do que solicitações que serão feitas para interagir com o banco de dados, o qual, nos retornará uma resposta ou output. Além disso, é uma linguagem declarativa, onde, através das queries sabemos o que irá acontecer (ex: SGBD irá retornar dados se eu solicitar através da query, e isso é explícito na própria query), mas não sabemos como. O que é diferente de programação imperativa, onde sabemos como irá acontecer. \n",
    "\n",
    "Como exemplo, podemos pensar em dois indivíduos que querem um delicioso strogonoff, um é declarativo, onde, irá solicitar em um restaurante o strogonoff com as características desejadas, e o restaurante irá retornar para ele o strogonoff desejado, mas ele não sabe como ele foi feito. Por outro lado, o outro indivíduo é imperativo, ele irá fazer o strogonoff passo a passo até obter o strogonoff desejado com as características de interesse, ou seja, ele sabe como o strogonoff foi feito. \n",
    "\n",
    "Assim, linguagens declarativas como SQL, por exemplo, são mais simples de serem utilizadas, porém, limitadas ao seu propósito. Enquanto que linguagens imperativas como Java, por exemplo, são mais complexas, porém, mais versáteis. Além disso, algumas linguagens podem misturar ambos paradigmas em sua estrutura, como é o caso da linguagem Python, por exemplo.\n",
    "\n",
    "**Ex 1.1**: `SELECT * FROM \"Clientes\";`\n",
    "\n",
    "Esta é uma query, onde, ela solicita ao SGBD que selecione (`SELECT`) todas (`*`) as informações de (`FROM`) um local na base de dados chamado `Clientes` (geralmente uma tabela).\n",
    "\n",
    "Caso eu queira selecionar uma coluna específica que está em `Clientes`, então, posso especificar o nome da coluna de interesse no lugar do símbolo `*`.\n",
    "\n",
    "**Ex 1.2**: `SELECT nome FROM \"Clientes\";`\n",
    "\n",
    "Caso queira selecionar mais de uma coluna, basta incluir seus nomes separados por vírgula.\n",
    "\n",
    "**Ex 1.3**: `SELECT nome,produtos FROM \"Clientes\";`\n",
    "\n",
    "Caso eu queria selecionar a informação de acordo com uma condição, posso utilizar o termo `where coluna = 'valor'`, o qual irá solicitar as linhas da tabela onde a coluna em questão possui o valor especificado.\n",
    "\n",
    "**Ex 1.4**: `SELECT nome FROM \"Clientes\" WHERE sexo = 'Feminino';`\n",
    "\n",
    "O **Ex 1.4** é um exemplo de uma solicitação SQL, ou, uma `query`. Utilizando a query desse exemplo, podemos definir a seguinte estrutura:\n",
    "\n",
    " - Palavra-chave (keyword):\n",
    "    - `SELECT`\n",
    "    - `FROM`\n",
    "    - `WHERE`\n",
    "    \n",
    "O SQL primeiro executa a keyword `FROM`, a qual indica qual é a tabela de dados de interesse. Após isso, segue executando a keyword `WHERE`, a qual indica as condições e filtros a serem aplicadas à tabela para que apenas os dados com as condições de interesse sejam selecionados. Por fim, a keyword `SELECT` irá selecionar os dados filtrados do banco de dados.\n",
    "\n",
    " - Identificador (parte de interesse nos dados, que no caso de modelos com linhas e colunas, o identificador geralmente é uma coluna):\n",
    "    - `nome`\n",
    "    - `\"Clientes\"`\n",
    "    - `sexo`\n",
    " - Condição:\n",
    "    - `sexo = 'Feminino'`\n",
    " - Expressão:\n",
    "    - `'Feminino'`\n",
    " - Cláusula:\n",
    "    - `SELECT nome`\n",
    "    - `FROM \"Clientes\"`\n",
    "    - `WHERE sexo = 'Feminino'`\n",
    " - Query:\n",
    "    - `SELECT nome FROM \"Clientes\" WHERE sexo = 'Feminino';`\n",
    "\n",
    "Ao fazer a declaração ou seleção dos dados pela query, podemos renomear o nome das colunas de interesse para que o output seja mais 'limpo'.\n",
    "\n",
    "**Ex 1.5**: `SELECT nome AS \"Nome do cliente\", endereço AS \"Endereço do cliente\" FROM \"Clientes\";`\n",
    "\n",
    "O **Ex 1.5** retorna as colunas nome e endereço da tabela Clientes, mas com os nomes customizados \"Nome do cliente\" e \"Endereço do cliente\".  \n",
    "\n",
    "Também podemos concatenar colunas, o que pode ser muito útil as vezes quando temos duas colunas, uma com o primeiro nome e outra com o sobrenome, por exemplo.\n",
    "\n",
    "**Ex 1.6**: `SELECT concat(nome, ' ', sobrenome) AS \"Nome do cliente\" FROM \"Clientes\";`\n",
    "\n",
    "O **Ex 1.6** retorna a nova coluna \"Nome do cliente\" que surgiu da concatenação entre as colunas \"nome\" e \"sobrenome\" da tabela Clientes. Note que no processo de concatenação foi incluído um espaço em branco para não retornar o nome e sobrenome colados. Além disso, observe que dentro da `função` `concat()` foi utilizado `''` para character, enquanto que fora usamos `\"\"` para selecionar colunas."
   ]
  },
  {
   "attachments": {},
   "cell_type": "markdown",
   "metadata": {},
   "source": [
    "## SQL comandos"
   ]
  },
  {
   "attachments": {},
   "cell_type": "markdown",
   "metadata": {},
   "source": [
    " - **DCL (Data control language)**: Dar (GRANT) ou revogar (REVOKE) acesso de um indivíduo ou grupo de indivíduos a um banco de dados, `configuração de permissões`.\n",
    "    - **GRANT**:\n",
    "    - **REVOKE**:\n",
    " - **DDL (Data definition language)**: Diretamente relacionado às `configurações do banco de dados`, no sentido da estrutura dele..\n",
    "    - **CREATE (CRIAR)**:\n",
    "    - **ALTER (ALTERAR)**:\n",
    "    - **DROP (DELETAR/REMOVER)**:\n",
    "    - **RENAME (RENOMEAR)**:\n",
    "    - **TRUNCATE (REMOVER DADOS COMPLETAMENTE)**:\n",
    "    - **COMMENT (COMENTAR)**:\n",
    " - **DQL (Data query language)**: Ler e selecionar dados através de declarações, no sentido de `interação com os dados`.\n",
    "    - **SELECT (SELECIONAR)**: Utilizado para selecionar ou recuperar dados do banco de dados.\n",
    " - **DML (Data modification language)**: Associados aos dados dentro das tabelas no banco de dados, no sentido de `atualização do banco de dados` a nível de estrutura, como inclusão ou exclusão de linhas, por exemplo.\n",
    "     - **INSERT**:\n",
    "     - **UPDATE**:\n",
    "     - **DELETE**:\n",
    "     - **MERGE**:\n",
    "     - **CALL**:\n",
    "     - **EXPLAIN PLAN**:\n",
    "     - **LOOK TABLE**:\n",
    "\n",
    "**Functions**: São na forma `nome()` onde `nome` é o nome da função e `()` é onde os parâmetros de entrada devem ser incluídos. O nome da função é importante que represente de forma intuitiva o que a função faz, enquanto que os parâmetros de entrada variam de função para função. Em banco de dados existem dois tipos de funções `aggregate/agregadoras` e `scalar/escalares`.\n",
    "\n",
    " - **aggregate/agregadoras**: Agrega os dados para produzir um único valor (ex: média dos salários da coluna \"salários\").\n",
    "    - `AVG()`: Calcula a média de um grupo de valores.\n",
    "    - `COUNT()`: Retorna o número de linhas em uma coluna ou tabela.\n",
    "    - `MIN()`: Retorna o menor valor em um conjunto de valores.\n",
    "    - `MAX()`: Retorna o maior valor em um conjunto de valores.\n",
    "    - `SUM()`: Calcula a soma de um conjunto de valores.\n",
    "\n",
    "Como exemplos de uso, podemos pensar no seguinte:\n",
    "\n",
    " - **Ex 1.7**: Alguns exemplos de queries utilizando funções:\n",
    "    - `SELECT AVG(salary) FROM salaries;` Qual é o salário médio da empresa?\n",
    "    - `SELECT MAX(birth_date) FROM employees;` Em que ano nasceu a pessoa mais jovem na empresa?\n",
    "    - `SELECT COUNT(id) FROM towns;` Quantas cidades existem na frança?\n",
    "    - `SELECT DISTINCT COUNT(\"language\") FROM countrylanguage WHERE isofficial = 'TRUE';` Quantas línguas oficiais existem?\n",
    "    - `SELECT AVG(population) FROM city WHERE countrycode =  'NLD';` Qual é a população média das cidades na Holanda?\n",
    "\n",
    "Mais funções agregadores podem ser verificadas em [aggregate functions](https://www.postgresql.org/docs/12/functions-aggregate.html).\n",
    "\n",
    " - **scalar/escalares**: Avalia cada linha individualmente retornando um vetor de valores igual ao número de linhas avaliadas (ex: concatenação das colunas \"nome\" e \"sobrenome\" da tabela Clientes).\n",
    "\n",
    "**Operadores AND e OR**: Muitas vezes queremos aplicar filtros que respeitem condições com diversas camadas, para isso, podemos usar operadores lógicos. Como exemplo de aplicação podemos pensar o seguinte:\n",
    "\n",
    " - **Ex 1.8**: Seleciona todas as linhas da tabela employees e filtra a tabela onde o atributo first_name é 'Mayumi' e o atributo last_name é 'Schueller':\n",
    "    - `SELECT * FROM employees WHERE (first_name = 'Mayumi' AND last_name = 'Schueller');`\n",
    "\n",
    "O operador `AND` \"trava\" as condições que vem antes e depois dele, dessa forma elas se comportarão em conjunto como uma única condição onde apenas retornará as linhas onde todas as condições travadas por ele forem atendidas. Por outro lado, podemos utilizar o operador `OR` para condicionar mais de uma condição travada, onde, as linhas que serão retornadas atendem ou uma condição travada ou a outra condição travada. Observe o próximo exemplo:\n",
    "\n",
    " - **Ex 1.9**: Seleciona todas as linhas da tabela employees e filtra a tabela onde o atributo first_name é 'Mayumi' e o atributo last_name é 'Schueller' **ou** first_name é 'Karen' e o last_name é 'Young':\n",
    "    - `SELECT * FROM employees WHERE (first_name = 'Mayumi' AND last_name = 'Schueller') OR (first_name = 'Karen' AND last_name = 'Young');`\n",
    "\n",
    "O operador `OR` também pode ser usado em condições não \"travadas\", e ao faz uso de parêntesis, podemos simplificar queries. Observe o exemplo abaixo:\n",
    "\n",
    " - **Ex 1.10**: Seleciona todas as linhas da tabela Clientes e filtra a tabela onde o atributo country é 'BR' e o atributo gender é 'F' **ou** country é 'JP' e o gender é 'F':\n",
    "    - **Método 1**: `SELECT * FROM \"Clientes\" WHERE (country = 'BR' AND gender = 'F') OR (country = 'JP' AND gender = 'F');`\n",
    "    - **Método 2**: `SELECT * FROM \"Clientes\" WHERE (country = 'BR' OR country = 'JP') AND gender = 'F';`\n",
    "    \n",
    " - Mais exemplos:\n",
    "    - Selecione pessoas com menos de 30 anos ou mais de 50 anos, com uma renda acima de 50000 (Inclua pessoas que tenham 50 anos e pessoas que sejam do Japão ou da Austrália): `SELECT * FROM customers WHERE income > 50000 AND (age < 30 OR age >= 50) AND (country = 'Japan' OR country = 'Australia');`\n",
    "    - Qual foi o montante em dólares obtidos de vendas em junho de 2004 para pedidos acima de 100 dólares?: `SELECT SUM(totalamount) from orders WHERE (orderdate >= '2004-06-01' AND orderdate <= '2004-06-30') AND totalamount > 100;`\n",
    "    \n",
    "**Keyword NOT**: Uma funcionalidade que queremos ter é a não inclusão de certo dados ao criar filtros, e isso pode ser feito com a palavra chave `NOT`. Observe o exemplo a seguir:\n",
    "\n",
    " - **Ex 1.11**: Conta o número de linhas da tabela customers, onde, a coluna \"age\" é diferente de '55' e a coluna \"gender\" é diferente de 'M':\n",
    "    - **Método 1**: `SELECT COUNT(age) FROM customers WHERE (NOT age = '55' AND NOT gender = 'M');`\n",
    "\n",
    "**Comparison operators**: Muitas vezes queremos filtrar os dados de acordo com um intervalo numérico. Até então, vimos o operador `=` para filtrar valores exatos, mas também há os operadores `>` (maior que), `<` (menor que), `>=` (maior ou igual a), `<=` (menor ou igual a) e `!= ou <>` (diferente de). Observe os exemplos a seguir:\n",
    "\n",
    " - **Ex 1.12**: Alguns exemplos de queries utilizando diferentes operadores de comparação:\n",
    "    - `SELECT COUNT(gender) FROM customers WHERE (gender = 'F' AND state = 'OR');` Quantas clientes mulheres temos do estado de Oregon (OR)?\n",
    "    - `SELECT COUNT(firstname) FROM customers WHERE (age > 44 AND income >= 100000);` Quantos acima de 44 anos possuem uma renda de 100.000 ou mais?\n",
    "    - `SELECT COUNT(firstname) FROM customers WHERE (age >= 30 and age <= 50 AND income < 50000);` Quantos, entre as idades de 30 e 50 anos, possuem uma renda inferior a 50.000?\n",
    "    - `SELECT AVG(income) FROM customers WHERE (age > 20 AND age < 50);` Qual é a renda média dos indivíduos com idade entre 20 e 50 anos?\n",
    "\n",
    "Note que as comparações são feitas para números. Embora esses operadores funcionem com textos, na prática não é muito comum isso ser feito, sendo que as comparações serão feitas em relação a posição das letras do alfabeto. Além disso, note que o operador para comparação exata é `=` em vez de `==`, sendo este último o mais comum em linguagens de programação.\n",
    "\n",
    "**Precedência dos operadores**: Ao criar filtros em queries, os símbolos e operadores possuem uma ordem de execução que é seguida, sendo a ordem do mais prioritário para o com menor prioridade: `Parêntesis > Multiplicação/Divisão > Subtração/Adição > NOT > AND > OR`.\n",
    "\n",
    "**NULL**: É como um \"espaço vazio\", mas diferente de um espaço vazio, é um objeto único por si só. Uma coluna pode ter células em branco quando um texto inserido consiste apenas em espaços, como `\"   \"`. Por outro lado, uma célula NULL será exibida como `NULL/null/<NULL>`. Ao criar uma tabela, tudo é NULL, portanto, é importante definir previamente o que o NULL representa e por que estamos usando, pois isso pode gerar erros, uma vez que qualquer operação realizada com NULL retornará NULL.\n",
    "\n",
    "Existem cenários em que pode ser uma boa decisão utilizar o NULL, por exemplo:\n",
    " - Dados opcionais ou dados necessários?: Os dados que serão incluídos no banco de dados podem ser necessários para o funcionamento do sistema e da empresa como um todo, como dados de cadastro, por exemplo. Esse tipo de dado precisa ser devidamente incluído. Por outro lado, dados opcionais são informações extras que a empresa pode coletar por diversos motivos, como a preferência musical do usuário, por exemplo. Nesse caso, o usuário pode responder ou não, uma vez que não faz parte do produto em si, mas sim algo extra. Nesse tipo de coluna ou dado, o NULL pode ser incorporado caso o usuário não responda, por exemplo.\n",
    " - Dados futuros: Pode ser que surja a necessidade, no futuro, de incluir uma nova coluna em uma tabela do banco de dados, como o endereço do usuário, por exemplo. Nesse caso, pode-se incluir uma coluna com endereços temporários, o que pode ser funcional inicialmente, mas problemático a longo prazo. Outra opção é incluir uma coluna NULL, na qual os endereços serão preenchidos ao longo do tempo. \n",
    "\n",
    "Lembrando que o motivo do uso do NULL no banco de dados deve ser devidamente documentado, para que toda a equipe tenha em mente por que ele está lá e para evitar problemas futuros.\n",
    "\n",
    "NULL pode ser qualquer coisa, logo, sempre é visto como `unknown/desconhecido`. Sempre devemos ter muito cuidado ao filtrar os dados, visto que NULL possui comportamentos muitas vezes diferentes do usual. Na prática, NULL também é considerado um valor lógico junto do `TRUE` e `FALSE`, por exemplo: `NULL = 1 OR idade = 25`, caso `idade = 25` for `TRUE`, essa condição retornará `TRUE` devido ao comportamento do operador `OR`. Mas, caso tivermos `NULL = 1 AND idade = -5`, então, retornará `NULL` e não `FALSE`. Assim, sempre devemos nos atentar em lidar com `NULL` da maneira correta como veremos a seguir. \n",
    "\n",
    "**Operador IS**: Outro ponto é quando escrevemos queries, nesse caso, é necessário sempre verificar se existem valores NULL nos dados sempre que necessário. Ao construir queries complexas, se não considerarmos adequadamente os valores NULL, bugs podem surgir. Como vimos, qualquer operação feita com NULL retornará NULL, assim, se tentarmos filtrar valores NULL utilizando `!=`, por exemplo, não teremos nenhum resultado. Veja o exemplo abaixo:\n",
    "\n",
    " - **Ex 1.13**: `SELECT name FROM student WHERE name != NULL;`.\n",
    "\n",
    "Por outro lado, existe o operador `IS` que irá permitir burlar esse problema e devidamente filtrar os valores NULL. Esse operador permite filtrar valores `NULL, NOT NULL, TRUE ou FALSE`. \n",
    "\n",
    " - **Ex 1.14**: Exemplos utilizando `IS`:\n",
    "    - `SELECT name FROM student WHERE name IS NOT NULL;` Seleciona a coluna \"name\" da tabela student cujas linhas não são NULL. \n",
    "    - `SELECT name FROM student WHERE name IS NULL;` Seleciona a coluna \"name\" da tabela student cujas linhas são NULL. \n",
    "    - `SELECT age FROM student WHERE age = 50 IS TRUE;` Seleciona a coluna \"age\" da tabela student cujos indivíduos possuem 50 anos de idade. \n",
    "    - `SELECT age FROM student WHERE age < 0 IS FALSE;` Seleciona a coluna \"age\" da tabela student em que os indivíduos não possuem idade negativa. \n",
    "\n",
    "**coalesce keyword**: Permite substituir valores NULL em colunas de uma tabela do banco de dados que foi chamada por uma query. Funciona para múltiplas colunas.\n",
    "\n",
    " - **Ex 1.15**: Exemplos utilizando `coalesce()`:\n",
    "    - `SELECT coalesce(name, 'indisponível') FROM student;` Seleciona a coluna \"name\" da tabela student substituindo NULL por 'indisponível'. \n",
    "    - `SELECT coalesce(name, 'A'), coalesce(lastname, 'B') FROM student;` Seleciona a coluna \"name\" da tabela student substituindo NULL por 'A' e a coluna \"lastname\" substituindo NULL por 'B'.\n",
    "    - `SELECT sum(coalesce(age, 50)) FROM student;` Retorna a soma das idades dos indivíduos considerando NULL como 50. \n",
    "\n",
    "**Operador BETWEEN AND**: Podemos usar este operador para delimitar intervalos, sendo uma forma mais limpa e compacta do que delimitar intervalos utilizando `>`, `<`, `>=` ou `<=`.\n",
    "\n",
    " - **Ex 1.16**: Exemplos utilizando `BETWEEN AND`:\n",
    "    - Sem BETWEEN AND: `SELECT age FROM customers WHERE age >= 25 AND age <= 50;`\n",
    "    - Com BETWEEN AND: `SELECT age FROM customers WHERE age BETWEEN 25 AND 50;`\n",
    "    - Sem BETWEEN AND: `SELECT COUNT(firstname) FROM customers WHERE (age >= 25 AND age <= 50 AND income < 50000);`\n",
    "    - Com BETWEEN AND: `SELECT COUNT(firstname) FROM customers WHERE income < 50000 AND (age BETWEEN 25 and 50);`\n",
    "\n",
    "**Operador IN**: Ajuda a compactar queries que teriam muitos `OR` em sequência para condições dos valores de uma mesma coluna.\n",
    "\n",
    " - **Ex 1.17**: Exemplos utilizando `IN`:\n",
    "    - Sem IN: `SELECT age FROM customers WHERE age 25 OR age = 50 OR age = 19 OR age = 5 OR age = 9;`\n",
    "    - Com IN: `SELECT age FROM customers WHERE age IN (25, 50, 19, 5, 9);`\n",
    "    - Sem IN: `SELECT COUNT(id) FROM city WHERE (district = 'Zuid-Holland' OR district = 'Noord-Brabant' OR district =  'Utrecht');`\n",
    "    - Com IN: `SELECT COUNT(id) FROM city WHERE district IN ('Zuid-Holland', 'Noord-Brabant', 'Utrecht');`\n",
    "\n",
    "**Operadores LIKE e ILIKE**: Para filtrar colunas baseando-se em padrões específicos podemos utilizar a keyword `LIKE` e `ILIKE`. A diferença entre ambos é que `LIKE` considera se os characters do padrão especificado são em maiúsculo ou minúsculo, procurando o que corresponde na coluna de forma exata ao especificado. Por outro lado, `ILIKE` faz o mesmo que o `LIKE`, porém, sem se preocupar se é maiúsculo ou minúsculo.\n",
    "\n",
    " - **Ex 1.18**: Exemplos utilizando `LIKE` e `ILIKE`:\n",
    "    - `SELECT names FROM customers WHERE names LIKE 'Jo%';` nomes que iniciam com 'Jo'.\n",
    "    - `SELECT names FROM customers WHERE names LIKE '%é';` nomes que terminam com 'é'\n",
    "    - `SELECT names FROM customers WHERE names LIKE '%ca%';` nomes que possuem 'ca' em qualquer lugar do nome.\n",
    "    - `SELECT names FROM customers WHERE names LIKE '_os%';` nomes que iniciam com qualquer letra seguida de 'os' e qualquer texto após.\n",
    "    - `SELECT names FROM customers WHERE names LIKE 'J_%_%';` nomes que iniciam com 'J' seguido de uma letra qualquer garantida e possuem pelomenos mais uma letra, onde, pode haver qualquer texto após ela e entre ela e a segunda letra.\n",
    "    - `SELECT names FROM customers WHERE names LIKE 'J__é'; -- são 2 undercores` nomes que iniciam com 'J', terminam com 'é' e possuem 2 letras quaisquer entre ambos. \n",
    "    - `SELECT names FROM customers WHERE names ILIKE 'J%';` nomes que iniciam com 'J' ou 'j', e possuem qualquer texto após isso, sejam em letras maiúsculas ou minúsculas.\n",
    "\n",
    "Tanto o `LIKE` quanto o `ILIKE` devem ser usados com colunas com dados do tipo texto. Assim, antes de fazer uso de ambos é importante garantir que os dados da coluna em questão são textos, o que pode ser feito com `CAST()` ou com `::` (ex: `CAST(salary AS TEXT)` ou `salary::TEXT`).\n",
    "\n",
    " - **Ex 1.19**: Exemplos utilizando `CAST()` e `::`: quantidade de times de baseball com pontuação onde o primeiro e terceiro número são 5. \n",
    "    - `SELECT count(teamid) FROM baseball WHERE CAST(points AS TEXT) LIKE '5_5%';` \n",
    "    - `SELECT count(teamid) FROM baseball WHERE points::TEXT LIKE '5_5%';` \n",
    "\n",
    "**Keyword ORDER BY**: Ordena os dados de forma ascendente ou decrescente por coluna.\n",
    "\n",
    " - **Ex 1.20**: Exemplos utilizando `ORDER BY`. \n",
    "    - `SELECT * FROM customers ORDER BY names ASC;` ordena os dados da tabela **customers** por \"nomes\" de forma ascendente.\n",
    "    - `SELECT * FROM customers ORDER BY names DESC;` ordena os dados da tabela **customers** por \"nomes\" de forma decrescente.\n",
    "    - `SELECT * FROM customers ORDER BY first_name, last_name DESC;` ordena os dados da tabela **customers** por \"first_name\" de forma ascendente e, por \"last_name\", de forma decrescente. Note que `DESC` apenas aplicou ao \"last_name\" enquanto que `ASC` foi aplicado ao \"first_name\", isso ocorre pois `ORDER BY` aplica a uma coluna por vez, e caso são seja especificado a ordem para a coluna, então, a ordem adotada é ascendente `ASC`.\n",
    "    - `SELECT last_name FROM employees ORDER BY LENGTH(last_name) DESC;` do nome com mais letras em direção ao nome com menas letras.\n",
    "    - `SELECT * FROM employees WHERE first_name::TEXT ILIKE 'k%' ORDER BY hire_date DESC;` funcionários com nomes que iniciam com a letra k ou K, e dados ordenados pela data de contratação de forma decrescente.\n",
    "\n",
    "**Seleção de múltiplas tabelas (JOIN)**: Podemos selecionar dados de mais de uma tabela ao mesmo tempo, mas devemos ter cuidado em como fazemos isso. Ao selecionar colunas de diferentes tabelas, devemos informar através da query a relação entre as tabelas. Tal relação aparece na forma de colunas identificadoras das linhas, ou seja, a chave primária (`Primary Key`: coluna identificadora das linhas da tabela) e a chave estrangeira (`Foreign Key`: uma primary key que veio de outra tabela).\n",
    "\n",
    " - **Ex 1.21**: Exemplo de seleção de colunas de diferentes tabelas. \n",
    "    - `SELECT a.empid, b.salary FROM employees AS a, salaries AS b WHERE a.empid = b.empid ORDER BY a.empid;` Seleciona a coluna \"empid\" da tabela **employees**, onde essa tabela é nomeada para uso na query como **a**. O mesmo é feito para a coluna \"salary\" da tabela **salaries**, onde a tabela é nomeada como **b**. A relação entre as tabelas é informada como uma condição, onde a chave primária da tabela **a** é igual a chave estrangeira da tabela **b**. Por fim, a seleção das colunas é realizada com a coluna \"empid\" (chave primária) ordenada de forma ascendente.\n",
    "\n",
    "O mesmo pode ser feito com o `INNER JOIN`, inclusive é uma boa prática seu uso, pois sua leitura é limpa em comparação com o `WHERE` nessas situações. Ao utilizar o `INNER JOIN` ainda devemos informar a relação entre as tabelas por uma condição, porém, as condições deixam de ser feitas com `WHERE` e passam a ser feitas com o `ON`, mas o princípio de uso é o mesmo.\n",
    "\n",
    " - **Ex 1.22**: Exemplo de seleção de colunas de diferentes tabelas (INNER JOIN). \n",
    "    - `SELECT a.empid, b.salary, b.from_date, c.title FROM employees AS a INNER JOIN salaries AS b ON b.empid = a.empid INNER JOIN titles AS c ON c.empid = a.empid AND (b.from_date = c.from_date OR (b.from_date + INTERVAL '2 days') = c.from_date) ORDER BY a.empid ASC, b.from_date ASC;` As tabelas **employees**, **salaries** e **titles** são nomeadas para uso como sendo **a**, **b** e **c** respectivamente. É feito o `JOIN` das tabelas **b** e **c** na tabela **a** com o `INNER JOIN`, onde a relação entre as tabelas são feitas por `b.empid = a.empid` e `c.empid = a.empid` com a keyword de condição `ON`. É feita a seleção das colunas \"empid\", \"salary\", \"from_date\" e \"title\" de suas respectivas tabelas, onde, as linhas requisitadas são referentes as datas em que os funcionários foram promovidos (título antes de receber a promoção: `b.from_date = c.from_date`) ou, a data em que o funcionário recebeu oficialmente o novo título (usualmente 2 dias após ser promovido: `(b.from_date + INTERVAL '2 days') = c.from_date`). Além disso, os dados são ordenados pela coluna \"empid\" e \"from_date\" das tabelas **a** e **b** respectivamente, de forma ascendente.     \n",
    "\n",
    "Além disso, podemos utilizar o `INNER JOIN` para fazer seleções de uma tabela considerando sua chave primária e, uma chave estrangeira que referencia essa mesma tabela, embora não seja muito comum. Esse tipo de Join se chama **Self Join**.\n",
    "\n",
    " - **Ex 1.23**: Exemplo de seleção de colunas de uma mesma tabela (INNER JOIN). \n",
    "    - `SELECT a.id, a.name AS \"employee\", b.name AS \"supervisor name\" FROM employee AS a INNER JOIN employee AS b ON a.supervisorid = b.id;` \"id\" é a chave primária da tabela **employee** enquanto que \"supervisorid\" é a chave estrangeira dessa mesma tabela. Enquanto que \"id\" identifica cada indivíduo da tabela, \"supervisorid\" identifica qual é o supervisor do indivíduo \"id\" dentro da empresa. Assim, a query considera a tabela **employee** nomeada como **a**, e também, considera uma segunda vez a tabela **employee** nomeada como **b**, mas informando a relação que a tabela tem com ela mesma através da condição `ON a.supervisorid = b.id`. Então, é selecionado as colunas \"id\", \"name\" como \"employee\" e \"name\" como \"supervisor name\". \n",
    "\n",
    "Note que o `INNER JOIN` apenas seleciona as linhas da tabela \"A/esquerda\" que possuem uma correspondência na tabela \"B/direita\", caso essa correspondência não exista, a linha não é selecionada. Muitas vezes queremos incluir esses casos sem uma correspondência, e isso pode ser feito com os OUTER JOINS. Quando queremos que os casos da tabela \"A/esquerda\" sem correspondência na tabela \"B/direita\" sejam incluídos, podemos utilizar o `LEFT JOIN`. Quando queremos incluir os casos da tabela \"B/direita\" sem correspondência na tabela \"A/esquerda\", podemos utilizar o `RIGHT JOIN`. Ambos possuem a mesma lógica de uso vista até agora para as funcionalidades JOIN. Além disso, ao incluir esses casos sem correspondência, eventualmente teremos valores `NULL` na tabela, os quais devem ser devidamente trabalhados dependendo do objetivo, sendo o `COALESCE()` uma boa funcionalidade nesses casos.\n",
    "\n",
    "Outro ponto que podemos nos atentar, é que o `INNER JOIN` é a mesma coisa que `JOIN`, logo, ambos podem ser usados e farão a mesma coisa. Além disso, existem outros JOINS embora não sejam tão comuns de serem usados, como por exemplo: `CROSS JOIN` funciona como um produto cartesiano, combinando cada linha de uma tabela com todas as outras linhas da outra tabela, o que pode gerar conjunto de dados gigantescos; `FULL JOIN` funciona como um LEFT E RIGHT JOIN juntos, retornando todas as linhas, sejam elas correspondentes entre as tabelas ou não, e onde não existir correspondência é retornado um valor `NULL`.\n",
    "\n",
    " - **Ex 1.24**: Mais exemplos utilizando JOINS. \n",
    "    - `SELECT c.firstname, c.lastname, o.orderid FROM orders AS o INNER JOIN customers AS c ON o.customerid = c.customerid WHERE c.state IN ('NY', 'OH', 'OR') ORDER BY o.orderid;` Retorna todos os pedidos de clientes que moram nos estados de Ohio (OH), Nova York (NY) ou Oregon (OR).\n",
    "    - `SELECT p.prod_id, i.quan_in_stock FROM products as p INNER JOIN inventory AS i ON p.prod_id = i.prod_id ` Retorna o inventário de cada produto.\n",
    "    - `SELECT e.first_name, dp.dept_name FROM employees AS e INNER JOIN dept_emp AS de ON de.emp_no = e.emp_no INNER JOIN departments AS dp ON dp.dept_no = de.dept_no` Retorna (para cada funcionário) em qual departamento eles trabalham.\n",
    "\n",
    "Muitas vezes queremos aplicar um JOIN considerando uma chave primária e uma chave estrangeira que basicamente são a mesma coluna, mas em diferentes tabelas. Esse é o caso mais simples e mais encontrado de relações entre tabelas, e podemos simplificar JOINS fazendo uso do `USING()` para informar essa relação ao fazer um JOIN.\n",
    "\n",
    " - **Ex 1.25**: Exemplos utilizando `USING()`. \n",
    "    - Com: `SELECT e.emp_no, e.first_name, de.dept_no FROM employees AS e INNER JOIN dept_emp AS de USING(emp_no);` \n",
    "    - Sem: `SELECT e.emp_no, e.first_name, de.dept_no FROM employees AS e INNER JOIN dept_emp AS de ON de.emp_no = e.emp_no;`\n",
    "\n",
    "Lembrando que na maioria dos casos mais elaborados, o uso do `ON` para informar a relação entre as tabelas é recomendável por possuir uma leitura mais clara e fluída sobre o que está sendo feito. Porém, caso o uso do JOIN seja simples, então, `USING()` pode ser uma boa forma de deixar o código mais limpo para leitura."
   ]
  },
  {
   "attachments": {},
   "cell_type": "markdown",
   "metadata": {},
   "source": [
    "## Datas"
   ]
  },
  {
   "attachments": {},
   "cell_type": "markdown",
   "metadata": {},
   "source": [
    "Quando lidamos com datas, queremos trabalhar com a informação do fuso-horário padronizado, visto que pode haver dados de indivíduos de diferentes lugares do mundo em diferentes fusos-horários.\n",
    "\n",
    "O fuso-horário padronizado é chamado de UTC e no PostgreSQL, esse é o padrão adotado para trabalhar. Ao instalar o PostgreSQL em uma máquina, ele irá sincronizar com o fuso-horário do sistema e mostrar as informações no fuso-horário da pessoa. No entanto, todos os dados que dependem de fuso-horário, como datas, são tratados como UTC pelo PostgreSQL.\n",
    "\n",
    "Portanto, é importante ter cuidado ao lidar com datas, pois todas as informações e requisições são entendidas pelo PostgreSQL como sendo UTC. Assim, `se quisermos que o PostgreSQL entenda que estamos lidando com dados ou fazendo requisições em um fuso-horário específico, devemos informá-lo con antecedência, caso contrário ele irá entender como sendo UTC`.\n",
    "\n",
    "**Padrão de formatação**: Além dos fuso-horários estarem padronizados, para lidar com datas, precisamos que elas estejam também padronizadas em formato de escrita. No PostgreSQL, o padrão de formatação de datas é chamado de `ISO-8601`, o qual inclui a informação de data e de tempo.\n",
    "\n",
    " - ISO-8601: `YYYY-MM-DDTHH:MM:SS`\n",
    " - Exemplo de leitura: `2017-08-17T12:47:16+03:00`\n",
    "\n",
    "Primeiro temos a informação da data (ano-mês-dia), depois a informação do tempo (`T`horas:minutos:segundos) e por fim, a informação de quantas horas há de diferença entre o fuso-horário local e o padrão UTC (3 horas a mais nesse caso. Informação opcional de ser incluída, pois caso nao seja, o PostgreSQL automaticamente interpretará como sendo UTC). \n",
    "\n",
    "O conjunto de informações de data e tempo (e as vezes fuso-horário) na mesma formatação, como é mostrado, também é chamado de `Timestamp`. A escolha de usar timestamps ou apenas datas deve ser baseada em que tipo de informação é necessária para o problema, muitas vezes o uso de datas é o suficiente, mas há vezes que a informação de tempo é importante e deve ser incluida.\n",
    "\n",
    "Ao criar tabelas e inserir informações de timestamps no banco de dados devemos ter cuidado para inserir os dados de maneira correta. Lembrando que o PostgreSQL por padrão irá interpretar os dados inseridos como sendo UTC, logo, caso os dados não estejam em UTC, isso deve ser informado ao PostgreSQL. Outro ponto que devemos lembrar, é que os dados inseridos estejam com a formatação `ISO-8601`.\n",
    "\n",
    " - **Ex 2.0**: Criando tabela e inserindo dados de data e tempo. \n",
    "    - `CREATE TABLE fusohorario (ts TIMESTAMP WITHOUT TIMEZONE, tc TIMESTAMP WITH TIMEZONE);`  \n",
    "    - `INSERT INTO fusohorario VALUES(TIMESTAMP WITHOUT TIMEZONE '2023-07-25 09:00:00-03', TIMESTAMP WITH TIMEZONE '2023-07-25 09:00:00-03');` \n",
    "\n",
    "Ao criar as colunas *ts* e *tc* no **Ex 2.0**, *ts* não está considerando o fuso-horário informado na formatação ao declarar a coluna utilizando `TIMESTAMP WITHOUT TIMEZONE`, mas ao fazer isso, o PostgreSQL entende que o que resta (informação de data e tempo) já está em UTC, logo, retornará as horas como foram inseridas. Por outro lado, ao criar a coluna *tc*, pedimos para o PostgreSQL considerar a informação do fuso-horário, e ao fazer isso, retornará tanto o fuso-horário (em UTC caso a visualização da sessão ou do PostgreSQL esteja configurada em UTC, ou,  em fuso-horário local caso não esteja) como também as horas ajustadas para UTC considerando a diferença com o fuso-horário informado. Assim, teríamos como retorno para a coluna ts `2023-07-25 09:00:00` e para tc `2023-07-25 12:00:00-00` (caso a visualização esteja configurada para UTC, então, o fuso horário irá mostrar `-00`, e como foi informado um fuso-horário local de `-03`, a informação de tempo é ajustada para UTC ao considerar 3 horas à frente). \n",
    "\n",
    "**Operadores para datas**: Existem alguns operadores que nos ajudam a trabalhar com datas facilitando esse processo.\n",
    "\n",
    " - `SELECT NOW()::DATE;` ou `SELECT CURRENT_DATE;`: Retorna a data atual (ano-mês-dia).\n",
    " - `SELECT TO_CHAR(CURRENT_DATE, 'dd/mm/yyyy');`: Muda a formatação de `CURRENT_DATE` para `dd/mm/yyyy`. Aqui, `CURRENT_DATE` pode simplesmente ser uma coluna de datas em uma tabela, e a formatação não precisa ser necessariamente a que foi informada. Para mais opções de formatação, verifique a página na documentação do PostgreSQL em [formatação de datas no PostgreSQL](https://www.postgresql.org/docs/current/functions-formatting.html).\n",
    " - `SELECT DATE '05/04/2023';`: Converte a data que foi informada em formato texto para formato data. Embora a formatação não esteja em `ISO-8601`, o PostgreSQL irá retornar a data na formatação `ISO-8601`.\n",
    " - `SELECT NOW() - 05/04/2019;`: Diferença entre datas, será retornado o valor em dias. Lembrando que `SELECT NOW()` retorna a data atual, mas como não foi especificado o formato data com `::DATE`, ela retorna a informação completa do timestamp (dias, horas, minutos e segundos), o que é útil para realizar cálculos.\n",
    " - `SELECT AGE(DATE '1995-07-20');`: Retorna a idade dado a data de nascimento. Além disso, note que a data foi informada como texto, logo, devemos informar ao `AGE()` que o que está sendo informado é uma data, o que fazemos com `DATE 'data de nascimento'`.\n",
    "  - `SELECT AGE(DATE '1995-07-20', DATE '1500-07-20');`: Retorna o tempo em anos entre duas datas.\n",
    " - `SELECT EXTRACT(YEAR FROM AGE(nascimento)) FROM clientes;`: Extrai em uma nova coluna a informação da idade em anos das datas de uma coluna. Podemos utilizar no lugar de `YEAR` outras keywords como `MONTH` ou `DAY`, por exemplo. Além disso, podemos passar uma data específica com `DATE 'data de nascimento'` no lugar de uma coluna, retornando assim, a informação do ano (caso `YEAR`) na data especificada. Ou ainda, apenas informar uma coluna de datas a qual queremos extrair uma informação específica.\n",
    " - `SELECT DATE_TRUNC('year', DATE '2023/04/09');`: Trunca/trava o ano e redefine a informação de dia e mês para o menor possível, ou seja, o primeiro dia do mês e o primeiro mês do ano. O mesmo pode ser feito com as demais informações, porém, apenas as informações em uma escala temporal menor são redefinidas, sendo o dia a menor delas (caso seja apenas data). Dessa forma, ao truncar a informação do dia, o mês e o ano não são redefinidos, mantendo-se o mesmo dia, pois ele foi truncado (mas, caso seja timestamp, as informações de tempo como horas, minutos e segundos são redefinidas). Por outro lado, ao truncar a informação do mês, a informação do dia é redefinida para o primeiro dia do mês, mas o ano não é redefinido, e o mês está truncado.\n",
    " - `SELECT * FROM pedidos WHERE datadecompra <= now() - interval '30 days';`: Retorna todos os dados da tabela **pedidos** referentes aos últimos 30 dias contando a partir da data atual. Na keyword `interval` podemos especificar diferentes informações de data, sendo `years`, `months`, `days`, `hours` e `minutes` (ex: `now() - interval '1 year 5 months 17 days'` ou ` now() + interval '12 hours'`). Além disso, pedemos utilizar `EXTRACT` para extrair informações de um `interval`, assim como fizemos com `AGE()` anteriormente.\n",
    "\n",
    "  - **Ex 2.1**: Utilizando operadores de data. \n",
    "    - `SELECT * FROM employees WHERE EXTRACT(YEAR FROM AGE(birth_date)) > 60;` Retorna todos os funcionários acima de 60 anos.\n",
    "    - `SELECT COUNT(emp_no) FROM employees WHERE EXTRACT(MONTH FROM hire_date) = 02;` Retorna quantos funcionários foram contratados no mês de fevereiro.\n",
    "    - `SELECT MAX(AGE(birth_date)) FROM employees;` Retorna a idade do funcionário mais velho.\n",
    "\n",
    "  - **Ex 2.2**: Compactando a query com o uso de `DATE_TRUNC()`. Query para \"Quantos pedidos foram feitos em janeiro de 2004?\".\n",
    "    - Método 1: `SELECT COUNT(orderid) FROM orders WHERE (EXTRACT(YEAR FROM orderdate) = 2004) AND (EXTRACT(MONTH FROM orderdate) = 01) AND (EXTRACT(DAY FROM orderdate) BETWEEN 01 AND 31);`\n",
    "    - Método 2: `SELECT COUNT(orderid) FROM orders WHERE DATE_TRUNC('month', orderdate) = DATE '2004-01-01';` "
   ]
  },
  {
   "attachments": {},
   "cell_type": "markdown",
   "metadata": {},
   "source": [
    "# SQL (Avançado)"
   ]
  },
  {
   "attachments": {},
   "cell_type": "markdown",
   "metadata": {},
   "source": [
    "**GROUP BY**: Sumariza ou agrega dados por grupos. Geralmente quando queremos fazer uso de uma função agregadora como `COUNT()`, por exemplo, teremos como retorno um valor que sumariza a informação de toda uma coluna. Muitas vezes queremos sumarizar toda a informação de uma coluna por grupos, e para isso, devemos primeiro delimitar esses grupos para que a função agregadora faça o seu trabalho em cada um dos grupos, retornando um único valor referente a cada grupo.\n",
    "\n",
    " - **Ex 3.01**: Exemplos utilizando `GROUP BY`. \n",
    "    - `SELECT depart_num, COUNT(emp_num) FROM dept_emp GROUP BY depart_num;` Agrupa/delimita os departamentos da tabela **dept_emp** pela coluna \"depart_num\", e retorna a contagem/número de funcionários em cada departamento/grupo.\n",
    "    - `SELECT hire_date, COUNT(emp_no) AS \"amount\" FROM employees GROUP BY hire_date ORDER BY \"amount\" DESC;` Quantas pessoas foram contratadas por data de contratação.\n",
    "    - `SELECT e.emp_no, COUNT(t.title) AS \"amount of titles\" FROM employees AS e JOIN titles AS t USING(emp_no) WHERE EXTRACT (YEAR FROM e.hire_date) > 1991 GROUP BY e.emp_no ORDER BY e.emp_no;` Retorna todos os funcionários contratados após 1991 e conte a quantidade de cargos que eles tiveram.\n",
    "    - `SELECT e.emp_no, de.from_date, de.to_date FROM employees AS e JOIN dept_emp AS de USING(emp_no) WHERE de.dept_no = 'd005' GROUP BY e.emp_no, de from_date, de.to_date ORDER BY e.emp_no, de.to_date;` Retorna todos os funcionários que trabalham no departamento de desenvolvimento, juntamente com as datas de início e término.\n",
    "\n",
    "Algo a se notar, a ordem de precedência de execução de uma query ao incluir o agrupamento é dada por `FROM`>`WHERE`>`GROUP BY`>`SELECT`>`ORDER`.\n",
    "\n",
    "**HAVING**: Como vimos, `GROUP BY` ocorre após a cláusula `WHERE`, logo, devemos utilizar outra forma caso queiramos filtrar os grupos. Para isso, podemos fazer uso da cláusula `HAVING`, onde, a precedência de execução da query será `FROM`>`WHERE`>`GROUP BY`>`HAVING`>`SELECT`>`ORDER`. Note que ainda podemos utilizar `WHERE` na mesma query, onde ela irá aplicar o filtro em cada linha da coluna individualmente. Por outro lado, `HAVING` irá aplicar seu filtro a cada grupo como um todo, individualmente.\n",
    "\n",
    " - **Ex 3.02**: Exemplos utilizando `HAVING`. \n",
    "    - `SELECT e.emp_no, COUNT(t.title) as \"amount of titles\" FROM employees AS e JOIN titles AS t USING(emp_no) WHERE EXTRACT (YEAR FROM e.hire_date) > 1991 GROUP BY e.emp_no HAVING COUNT(t.title) > 2 ORDER BY e.emp_no;` Retorna todos os funcionários contratados após 1991 que tiveram mais de 2 cargos.\n",
    "    - `SELECT e.emp_no, COUNT(s.from_date) AS \"amount of raises\" FROM employees AS e JOIN salaries AS s USING(emp_no) JOIN dept_emp AS de USING(emp_no) WHERE de.dept_no = 'd005' GROUP BY e.emp_no HAVING COUNT(s.from_date) > 15 ORDER BY e.emp_no;` Retorna todos os funcionários que tiveram mais de 15 alterações salariais e que trabalham no departamento de desenvolvimento.\n",
    "    - `SELECT e.emp_no, COUNT(de.dept_no) AS \"worked for # departments\" FROM employees AS e JOIN dept_emp AS de USING(emp_no) GROUP BY e.emp_no HAVING COUNT(de.dept_no) > 1 ORDER BY e.emp_no;` Retorna todos os funcionários que trabalharam em vários departamentos.\n",
    "\n",
    "Um ponto a se atentar, é que embora `ORDER BY` seja a última na precedência, ela pode ser usada para ordenar considerando os grupos. Inclusive, podemos passar funções que estão sendo usadas para sumarizar os grupos como forma de ordená-los, ex: `SELECT d.dept_name, COUNT(e.emp_no) AS \"# of employees\" FROM employees AS e JOIN dept_emp AS de ON de.emp_no = e.emp_no JOIN departments AS d ON de.dept_no = d.dept_no GROUP BY d.dept_name ORDER BY COUNT(e.emp_no) DESC;`."
   ]
  },
  {
   "attachments": {},
   "cell_type": "markdown",
   "metadata": {},
   "source": [
    "## Utilidades\n",
    "\n",
    "### Comandos\n",
    "\n",
    " - `--`: Pode ser usado para comentar tudo à direita, ex: `-- SELECT nome FROM Clientes WHERE sexo = 'Feminino';` comenta toda a query, assim, ela não é executada).\n",
    " - `/**/`: Pode ser usado para comentar tudo dentro, ex: `SELECT nome FROM Clientes /*WHERE sexo = 'Feminino'*/;` comenta apenas a cláusula envolvendo a condição.\n",
    " - `SELECT DISTINCT`: Keyword para solicitar apenas valores distintos ou únicos da(s) coluna(s) especificada(s), similar ao unique() do R ou coluna.unique() do Python. Ex: `SELECT DISTINCT salary FROM salaries;`; `SELECT COUNT(DISTINCT salary) FROM salaries;`. Vale salientar que ela funciona ao especificar mais de uma coluna, porém, pode causar comportamentos não tão intuitivos\n",
    " - `SHOW TIMEZONE;`: Mostra o fuso-horário que o PostgreSQL está mostrando ao usuário.\n",
    " - `SET TIMEZONE 'UTC';`: Faz o fuso-horário que o PostgreSQL está mostrando ao usuário seja UTC, mas irá valer apenas para a sessão aberta, ao abrir uma nova sessão o usuário continuará visualizando no fuso-horário local.\n",
    " - `ALTER USER postgres SET TIMEZONE = 'UTC';`: Faz o mesmo que `SET TIMEZONE 'UTC';`, porém, diretamente na configuração do PostgreSQL e não apenas na sessão (obs: postgres é o nome de usuário em Windows e Linux, no caso do MAC, o usuário deve especificar o nome de usuário logado no sistema). Para garantir o funcionamento, feche todas as sessões ou o sistema de gerenciamento sendo utilizado, e abra novamente. Tendo funcionado, todas as sessões futuras mostrarão os dados em UTC, e não mais no fuso-horário local.\n",
    "\n",
    "### Boas práticas\n",
    "\n",
    " - **Case sensitive**: Caso o atributo tenha sido criado com o nome contendo alguma letra maiúscula, então, ao referenciá-lo em uma query devemos fazê-lo entre aspas duplas `\"\"`. Caso o nome do atributo seja todo em letra minúscula, então, isso não é necessário. Ex: `SELECT fullname AS \"Full Name\" FROM users;` caso o atributo se chame users, ou `SELECT fullname AS \"Full Name\" FROM \"Users\"` caso o atributo se chame Users.  "
   ]
  },
  {
   "attachments": {},
   "cell_type": "markdown",
   "metadata": {},
   "source": [
    "### Detalhes da estrutura de um banco de dados relacional\n",
    "\n",
    " - **Table/Tabela**: Similar a uma planilha do excel, onde temos uma estrutura de armazenamento de dados organizada em linhas e colunas. No Excel, cada coluna possui um nome pré-determinado (podemos utilizar a primeira linha como nomes das colunas, mas perdemos uma linha da planilha pra isso) padrão, e cada coluna pode receber, em geral, qualquer tipo de dado. Diferente do Excel, o conceito de tabela em banco de dados é de que, ao mesmo tempo que é similar a uma planilha, diferente delas, a tabela possui colunas com identificadores (nomes das colunas) bem especificados, além de ser bem especificado o tipo de dado que cada coluna comportará (embora não necessariamente). Além disso, toda tabela possui uma coluna de identificação das linhas único, de forma que cada linha da tabela é única.\n",
    " - **Column/Coluna**: As colunas da tabela possuem nomes (identificadores) específicos, e cada uma é como um conjunto de expressões. Colunas podem também serem chamadas de `atributos`. Quando nos referimos ao conjunto de colunas que formam a tabela, também podemos chamar de `degree` ou `grau`. \n",
    " - **Row/Linha**: As linhas da tabela nada mais são que os dados, cada linha da tabela é única e possui uma informação que a identifica (geralmente essa informação de identificação aparece nas colunas do tipo ID). A linhas também podem ser chamadas de `tuplas`, e quando nos referimos ao conjunto de todas as linha da tabela, chamamos de `cardinalidade`.\n",
    " - **Domain/Constraint/restrição**: Uma restrição (domínio) na coluna diz que tipo de dado ela irá comportar. \n",
    " - **Primary Key/Chave primária**: Cada linha da tabela é única, e para identificar cada linha de maneira única a tabela possui uma coluna identificadora das linhas (geralmente a sequência de números naturais), essa coluna é chamada de `chave primária`.\n",
    " - **Foreign Key/Chave estrangeira**: A relação entre as tabelas acontece ao adicionar uma chave primária de uma tabela em outra tabela. Assim, essa chave primária passa a ser uma `chave estrangeira`, pois é uma chave primária que veio de outra tabela. Na tabela \"Compras\" do **Ex 1.0**, a coluna \"CompraID\" é uma chave primária, enquanto a coluna \"ClienteID\" é uma chave estrangeira.\n",
    " - **Database Dump**: É o termo utilizado tradicionalmente ao extrair todos os dados do banco de dados."
   ]
  }
 ],
 "metadata": {
  "kernelspec": {
   "display_name": "base",
   "language": "python",
   "name": "python3"
  },
  "language_info": {
   "codemirror_mode": {
    "name": "ipython",
    "version": 3
   },
   "file_extension": ".py",
   "mimetype": "text/x-python",
   "name": "python",
   "nbconvert_exporter": "python",
   "pygments_lexer": "ipython3",
   "version": "3.10.9"
  },
  "orig_nbformat": 4
 },
 "nbformat": 4,
 "nbformat_minor": 2
}
